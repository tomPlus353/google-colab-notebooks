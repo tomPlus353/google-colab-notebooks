{
  "cells": [
    {
      "cell_type": "markdown",
      "metadata": {
        "id": "view-in-github",
        "colab_type": "text"
      },
      "source": [
        "<a href=\"https://colab.research.google.com/github/tomPlus353/google-colab-notebooks/blob/main/%5BGrune_account%5DRestaurant_rent_neural_net(Taberuba).ipynb\" target=\"_parent\"><img src=\"https://colab.research.google.com/assets/colab-badge.svg\" alt=\"Open In Colab\"/></a>"
      ]
    },
    {
      "cell_type": "code",
      "execution_count": 2,
      "metadata": {
        "id": "GwyEZPtSOUX-"
      },
      "outputs": [],
      "source": [
        "#@title no. 1 setup project"
      ]
    },
    {
      "cell_type": "markdown",
      "source": [
        "\n",
        "\n",
        "```\n",
        "-- sql query to export data from taberuba:\n",
        "SELECT\n",
        "    surface_area,\n",
        "    rent_amount,\n",
        "    latitude,\n",
        "    longitude,\n",
        "    date_built,\n",
        "    city_id\n",
        "FROM\n",
        "    properties\n",
        "WHERE\n",
        "    rent_amount IS NOT NULL\n",
        "    AND surface_area IS NOT NULL\n",
        "    AND date_built IS NOT NULL\n",
        "    AND latitude IS NOT NULL\n",
        "    AND longitude IS NOT NULL;\n",
        "```\n",
        "\n"
      ],
      "metadata": {
        "id": "6BFGXh-4hToM"
      }
    },
    {
      "cell_type": "code",
      "execution_count": 3,
      "metadata": {
        "colab": {
          "base_uri": "https://localhost:8080/",
          "height": 377
        },
        "id": "v7SbWRZr27qk",
        "outputId": "e525a902-7a05-4a60-9c2a-aee8192b76c7"
      },
      "outputs": [
        {
          "output_type": "display_data",
          "data": {
            "text/plain": [
              "<IPython.core.display.HTML object>"
            ],
            "text/html": [
              "\n",
              "     <input type=\"file\" id=\"files-53f74182-01fe-408c-8abf-4c38854873b1\" name=\"files[]\" multiple disabled\n",
              "        style=\"border:none\" />\n",
              "     <output id=\"result-53f74182-01fe-408c-8abf-4c38854873b1\">\n",
              "      Upload widget is only available when the cell has been executed in the\n",
              "      current browser session. Please rerun this cell to enable.\n",
              "      </output>\n",
              "      <script>// Copyright 2017 Google LLC\n",
              "//\n",
              "// Licensed under the Apache License, Version 2.0 (the \"License\");\n",
              "// you may not use this file except in compliance with the License.\n",
              "// You may obtain a copy of the License at\n",
              "//\n",
              "//      http://www.apache.org/licenses/LICENSE-2.0\n",
              "//\n",
              "// Unless required by applicable law or agreed to in writing, software\n",
              "// distributed under the License is distributed on an \"AS IS\" BASIS,\n",
              "// WITHOUT WARRANTIES OR CONDITIONS OF ANY KIND, either express or implied.\n",
              "// See the License for the specific language governing permissions and\n",
              "// limitations under the License.\n",
              "\n",
              "/**\n",
              " * @fileoverview Helpers for google.colab Python module.\n",
              " */\n",
              "(function(scope) {\n",
              "function span(text, styleAttributes = {}) {\n",
              "  const element = document.createElement('span');\n",
              "  element.textContent = text;\n",
              "  for (const key of Object.keys(styleAttributes)) {\n",
              "    element.style[key] = styleAttributes[key];\n",
              "  }\n",
              "  return element;\n",
              "}\n",
              "\n",
              "// Max number of bytes which will be uploaded at a time.\n",
              "const MAX_PAYLOAD_SIZE = 100 * 1024;\n",
              "\n",
              "function _uploadFiles(inputId, outputId) {\n",
              "  const steps = uploadFilesStep(inputId, outputId);\n",
              "  const outputElement = document.getElementById(outputId);\n",
              "  // Cache steps on the outputElement to make it available for the next call\n",
              "  // to uploadFilesContinue from Python.\n",
              "  outputElement.steps = steps;\n",
              "\n",
              "  return _uploadFilesContinue(outputId);\n",
              "}\n",
              "\n",
              "// This is roughly an async generator (not supported in the browser yet),\n",
              "// where there are multiple asynchronous steps and the Python side is going\n",
              "// to poll for completion of each step.\n",
              "// This uses a Promise to block the python side on completion of each step,\n",
              "// then passes the result of the previous step as the input to the next step.\n",
              "function _uploadFilesContinue(outputId) {\n",
              "  const outputElement = document.getElementById(outputId);\n",
              "  const steps = outputElement.steps;\n",
              "\n",
              "  const next = steps.next(outputElement.lastPromiseValue);\n",
              "  return Promise.resolve(next.value.promise).then((value) => {\n",
              "    // Cache the last promise value to make it available to the next\n",
              "    // step of the generator.\n",
              "    outputElement.lastPromiseValue = value;\n",
              "    return next.value.response;\n",
              "  });\n",
              "}\n",
              "\n",
              "/**\n",
              " * Generator function which is called between each async step of the upload\n",
              " * process.\n",
              " * @param {string} inputId Element ID of the input file picker element.\n",
              " * @param {string} outputId Element ID of the output display.\n",
              " * @return {!Iterable<!Object>} Iterable of next steps.\n",
              " */\n",
              "function* uploadFilesStep(inputId, outputId) {\n",
              "  const inputElement = document.getElementById(inputId);\n",
              "  inputElement.disabled = false;\n",
              "\n",
              "  const outputElement = document.getElementById(outputId);\n",
              "  outputElement.innerHTML = '';\n",
              "\n",
              "  const pickedPromise = new Promise((resolve) => {\n",
              "    inputElement.addEventListener('change', (e) => {\n",
              "      resolve(e.target.files);\n",
              "    });\n",
              "  });\n",
              "\n",
              "  const cancel = document.createElement('button');\n",
              "  inputElement.parentElement.appendChild(cancel);\n",
              "  cancel.textContent = 'Cancel upload';\n",
              "  const cancelPromise = new Promise((resolve) => {\n",
              "    cancel.onclick = () => {\n",
              "      resolve(null);\n",
              "    };\n",
              "  });\n",
              "\n",
              "  // Wait for the user to pick the files.\n",
              "  const files = yield {\n",
              "    promise: Promise.race([pickedPromise, cancelPromise]),\n",
              "    response: {\n",
              "      action: 'starting',\n",
              "    }\n",
              "  };\n",
              "\n",
              "  cancel.remove();\n",
              "\n",
              "  // Disable the input element since further picks are not allowed.\n",
              "  inputElement.disabled = true;\n",
              "\n",
              "  if (!files) {\n",
              "    return {\n",
              "      response: {\n",
              "        action: 'complete',\n",
              "      }\n",
              "    };\n",
              "  }\n",
              "\n",
              "  for (const file of files) {\n",
              "    const li = document.createElement('li');\n",
              "    li.append(span(file.name, {fontWeight: 'bold'}));\n",
              "    li.append(span(\n",
              "        `(${file.type || 'n/a'}) - ${file.size} bytes, ` +\n",
              "        `last modified: ${\n",
              "            file.lastModifiedDate ? file.lastModifiedDate.toLocaleDateString() :\n",
              "                                    'n/a'} - `));\n",
              "    const percent = span('0% done');\n",
              "    li.appendChild(percent);\n",
              "\n",
              "    outputElement.appendChild(li);\n",
              "\n",
              "    const fileDataPromise = new Promise((resolve) => {\n",
              "      const reader = new FileReader();\n",
              "      reader.onload = (e) => {\n",
              "        resolve(e.target.result);\n",
              "      };\n",
              "      reader.readAsArrayBuffer(file);\n",
              "    });\n",
              "    // Wait for the data to be ready.\n",
              "    let fileData = yield {\n",
              "      promise: fileDataPromise,\n",
              "      response: {\n",
              "        action: 'continue',\n",
              "      }\n",
              "    };\n",
              "\n",
              "    // Use a chunked sending to avoid message size limits. See b/62115660.\n",
              "    let position = 0;\n",
              "    do {\n",
              "      const length = Math.min(fileData.byteLength - position, MAX_PAYLOAD_SIZE);\n",
              "      const chunk = new Uint8Array(fileData, position, length);\n",
              "      position += length;\n",
              "\n",
              "      const base64 = btoa(String.fromCharCode.apply(null, chunk));\n",
              "      yield {\n",
              "        response: {\n",
              "          action: 'append',\n",
              "          file: file.name,\n",
              "          data: base64,\n",
              "        },\n",
              "      };\n",
              "\n",
              "      let percentDone = fileData.byteLength === 0 ?\n",
              "          100 :\n",
              "          Math.round((position / fileData.byteLength) * 100);\n",
              "      percent.textContent = `${percentDone}% done`;\n",
              "\n",
              "    } while (position < fileData.byteLength);\n",
              "  }\n",
              "\n",
              "  // All done.\n",
              "  yield {\n",
              "    response: {\n",
              "      action: 'complete',\n",
              "    }\n",
              "  };\n",
              "}\n",
              "\n",
              "scope.google = scope.google || {};\n",
              "scope.google.colab = scope.google.colab || {};\n",
              "scope.google.colab._files = {\n",
              "  _uploadFiles,\n",
              "  _uploadFilesContinue,\n",
              "};\n",
              "})(self);\n",
              "</script> "
            ]
          },
          "metadata": {}
        },
        {
          "output_type": "error",
          "ename": "KeyboardInterrupt",
          "evalue": "",
          "traceback": [
            "\u001b[0;31m---------------------------------------------------------------------------\u001b[0m",
            "\u001b[0;31mKeyboardInterrupt\u001b[0m                         Traceback (most recent call last)",
            "\u001b[0;32m<ipython-input-3-d8164dab24d9>\u001b[0m in \u001b[0;36m<cell line: 0>\u001b[0;34m()\u001b[0m\n\u001b[1;32m      2\u001b[0m \u001b[0;32mimport\u001b[0m \u001b[0mos\u001b[0m\u001b[0;34m\u001b[0m\u001b[0;34m\u001b[0m\u001b[0m\n\u001b[1;32m      3\u001b[0m \u001b[0;34m\u001b[0m\u001b[0m\n\u001b[0;32m----> 4\u001b[0;31m \u001b[0muploaded\u001b[0m \u001b[0;34m=\u001b[0m \u001b[0mfiles\u001b[0m\u001b[0;34m.\u001b[0m\u001b[0mupload\u001b[0m\u001b[0;34m(\u001b[0m\u001b[0;34m)\u001b[0m\u001b[0;34m\u001b[0m\u001b[0;34m\u001b[0m\u001b[0m\n\u001b[0m\u001b[1;32m      5\u001b[0m \u001b[0;34m\u001b[0m\u001b[0m\n\u001b[1;32m      6\u001b[0m \u001b[0mfile_name\u001b[0m \u001b[0;34m=\u001b[0m \u001b[0mnext\u001b[0m\u001b[0;34m(\u001b[0m\u001b[0miter\u001b[0m\u001b[0;34m(\u001b[0m\u001b[0muploaded\u001b[0m\u001b[0;34m)\u001b[0m\u001b[0;34m)\u001b[0m\u001b[0;34m\u001b[0m\u001b[0;34m\u001b[0m\u001b[0m\n",
            "\u001b[0;32m/usr/local/lib/python3.11/dist-packages/google/colab/files.py\u001b[0m in \u001b[0;36mupload\u001b[0;34m(target_dir)\u001b[0m\n\u001b[1;32m     70\u001b[0m   \"\"\"\n\u001b[1;32m     71\u001b[0m \u001b[0;34m\u001b[0m\u001b[0m\n\u001b[0;32m---> 72\u001b[0;31m   \u001b[0muploaded_files\u001b[0m \u001b[0;34m=\u001b[0m \u001b[0m_upload_files\u001b[0m\u001b[0;34m(\u001b[0m\u001b[0mmultiple\u001b[0m\u001b[0;34m=\u001b[0m\u001b[0;32mTrue\u001b[0m\u001b[0;34m)\u001b[0m\u001b[0;34m\u001b[0m\u001b[0;34m\u001b[0m\u001b[0m\n\u001b[0m\u001b[1;32m     73\u001b[0m   \u001b[0;31m# Mapping from original filename to filename as saved locally.\u001b[0m\u001b[0;34m\u001b[0m\u001b[0;34m\u001b[0m\u001b[0m\n\u001b[1;32m     74\u001b[0m   \u001b[0mlocal_filenames\u001b[0m \u001b[0;34m=\u001b[0m \u001b[0mdict\u001b[0m\u001b[0;34m(\u001b[0m\u001b[0;34m)\u001b[0m\u001b[0;34m\u001b[0m\u001b[0;34m\u001b[0m\u001b[0m\n",
            "\u001b[0;32m/usr/local/lib/python3.11/dist-packages/google/colab/files.py\u001b[0m in \u001b[0;36m_upload_files\u001b[0;34m(multiple)\u001b[0m\n\u001b[1;32m    162\u001b[0m \u001b[0;34m\u001b[0m\u001b[0m\n\u001b[1;32m    163\u001b[0m   \u001b[0;31m# First result is always an indication that the file picker has completed.\u001b[0m\u001b[0;34m\u001b[0m\u001b[0;34m\u001b[0m\u001b[0m\n\u001b[0;32m--> 164\u001b[0;31m   result = _output.eval_js(\n\u001b[0m\u001b[1;32m    165\u001b[0m       'google.colab._files._uploadFiles(\"{input_id}\", \"{output_id}\")'.format(\n\u001b[1;32m    166\u001b[0m           \u001b[0minput_id\u001b[0m\u001b[0;34m=\u001b[0m\u001b[0minput_id\u001b[0m\u001b[0;34m,\u001b[0m \u001b[0moutput_id\u001b[0m\u001b[0;34m=\u001b[0m\u001b[0moutput_id\u001b[0m\u001b[0;34m\u001b[0m\u001b[0;34m\u001b[0m\u001b[0m\n",
            "\u001b[0;32m/usr/local/lib/python3.11/dist-packages/google/colab/output/_js.py\u001b[0m in \u001b[0;36meval_js\u001b[0;34m(script, ignore_result, timeout_sec)\u001b[0m\n\u001b[1;32m     38\u001b[0m   \u001b[0;32mif\u001b[0m \u001b[0mignore_result\u001b[0m\u001b[0;34m:\u001b[0m\u001b[0;34m\u001b[0m\u001b[0;34m\u001b[0m\u001b[0m\n\u001b[1;32m     39\u001b[0m     \u001b[0;32mreturn\u001b[0m\u001b[0;34m\u001b[0m\u001b[0;34m\u001b[0m\u001b[0m\n\u001b[0;32m---> 40\u001b[0;31m   \u001b[0;32mreturn\u001b[0m \u001b[0m_message\u001b[0m\u001b[0;34m.\u001b[0m\u001b[0mread_reply_from_input\u001b[0m\u001b[0;34m(\u001b[0m\u001b[0mrequest_id\u001b[0m\u001b[0;34m,\u001b[0m \u001b[0mtimeout_sec\u001b[0m\u001b[0;34m)\u001b[0m\u001b[0;34m\u001b[0m\u001b[0;34m\u001b[0m\u001b[0m\n\u001b[0m\u001b[1;32m     41\u001b[0m \u001b[0;34m\u001b[0m\u001b[0m\n\u001b[1;32m     42\u001b[0m \u001b[0;34m\u001b[0m\u001b[0m\n",
            "\u001b[0;32m/usr/local/lib/python3.11/dist-packages/google/colab/_message.py\u001b[0m in \u001b[0;36mread_reply_from_input\u001b[0;34m(message_id, timeout_sec)\u001b[0m\n\u001b[1;32m     94\u001b[0m     \u001b[0mreply\u001b[0m \u001b[0;34m=\u001b[0m \u001b[0m_read_next_input_message\u001b[0m\u001b[0;34m(\u001b[0m\u001b[0;34m)\u001b[0m\u001b[0;34m\u001b[0m\u001b[0;34m\u001b[0m\u001b[0m\n\u001b[1;32m     95\u001b[0m     \u001b[0;32mif\u001b[0m \u001b[0mreply\u001b[0m \u001b[0;34m==\u001b[0m \u001b[0m_NOT_READY\u001b[0m \u001b[0;32mor\u001b[0m \u001b[0;32mnot\u001b[0m \u001b[0misinstance\u001b[0m\u001b[0;34m(\u001b[0m\u001b[0mreply\u001b[0m\u001b[0;34m,\u001b[0m \u001b[0mdict\u001b[0m\u001b[0;34m)\u001b[0m\u001b[0;34m:\u001b[0m\u001b[0;34m\u001b[0m\u001b[0;34m\u001b[0m\u001b[0m\n\u001b[0;32m---> 96\u001b[0;31m       \u001b[0mtime\u001b[0m\u001b[0;34m.\u001b[0m\u001b[0msleep\u001b[0m\u001b[0;34m(\u001b[0m\u001b[0;36m0.025\u001b[0m\u001b[0;34m)\u001b[0m\u001b[0;34m\u001b[0m\u001b[0;34m\u001b[0m\u001b[0m\n\u001b[0m\u001b[1;32m     97\u001b[0m       \u001b[0;32mcontinue\u001b[0m\u001b[0;34m\u001b[0m\u001b[0;34m\u001b[0m\u001b[0m\n\u001b[1;32m     98\u001b[0m     if (\n",
            "\u001b[0;31mKeyboardInterrupt\u001b[0m: "
          ]
        }
      ],
      "source": [
        "from google.colab import files\n",
        "import os\n",
        "\n",
        "uploaded = files.upload()\n",
        "\n",
        "file_name = next(iter(uploaded))\n",
        "file_path = os.path.join(os.getcwd(), file_name)\n",
        "\n",
        "print(\"Uploaded file path:\", file_path)"
      ]
    },
    {
      "cell_type": "code",
      "source": [
        "from google.colab import drive\n",
        "drive.mount('/content/drive')\n",
        "\n",
        "# file_path = '/content/drive/MyDrive/Your_Folder_Name/your_data.csv' # Example path\n"
      ],
      "metadata": {
        "id": "RCJXWF3vCbOU"
      },
      "execution_count": null,
      "outputs": []
    },
    {
      "cell_type": "code",
      "execution_count": null,
      "metadata": {
        "id": "DJQJHv7ktFOD"
      },
      "outputs": [],
      "source": [
        "!pip install tensorflow"
      ]
    },
    {
      "cell_type": "code",
      "execution_count": null,
      "metadata": {
        "id": "zYpWFqnhIZDO"
      },
      "outputs": [],
      "source": [
        "#@title no. 2 build and save model"
      ]
    },
    {
      "cell_type": "code",
      "execution_count": null,
      "metadata": {
        "id": "6MQStwm9_6S6"
      },
      "outputs": [],
      "source": [
        "import pandas as pd\n",
        "\n",
        "import numpy as np\n",
        "from sklearn.model_selection import train_test_split\n",
        "from sklearn.preprocessing import StandardScaler, OneHotEncoder\n",
        "import tensorflow as tf\n",
        "from tensorflow.keras.models import Sequential\n",
        "from tensorflow.keras.layers import Dense, Dropout\n",
        "from tensorflow.keras.callbacks import EarlyStopping\n",
        "import math\n",
        "\n",
        "# load data\n",
        "with open(file_path) as f:\n",
        "    data = pd.read_csv(f)\n",
        "\n",
        "# Convert 'date_built' to datetime\n",
        "data.dropna(inplace=True)\n",
        "\n",
        "# Convert 'date_built' to datetime\n",
        "data['date_built'] = pd.to_datetime(data['date_built'], format='ISO8601')\n",
        "\n",
        "# Specify the comparison date\n",
        "comparison_date = pd.to_datetime(\"2023-11-23\")\n",
        "\n",
        "# Calculate the difference in months\n",
        "data['months_diff'] = ((comparison_date.year - data['date_built'].dt.year) * 12 +\n",
        "                     comparison_date.month - data['date_built'].dt.month)\n",
        "\n",
        "num_count_unique_city = data['city_id'].nunique()\n",
        "print(f\"Number of unique values in 'city_id': {num_count_unique_city}\")\n",
        "\n",
        "from sklearn.cluster import KMeans\n",
        "latitude = data[\"latitude\"]\n",
        "longitude = data[\"longitude\"]\n",
        "kmeans = KMeans(n_clusters=num_count_unique_city)\n",
        "kmeans.fit(list(zip(latitude, longitude)))\n",
        "data[\"area\"] = kmeans.labels_\n",
        "\n",
        "# Display the DataFrame\n",
        "data.head(20)\n",
        "\n",
        "# select categorical and numerical features\n",
        "\n",
        "num_cols = [\n",
        "           \"surface_area\",\n",
        "            \"months_diff\"\n",
        "            ]\n",
        "\n",
        "coor_cols = [\n",
        "                \"latitude\",\n",
        "            \"longitude\",\n",
        "]\n",
        "\n",
        "cat_cols = [\n",
        "    # \"area\",\n",
        "    \"city_id\",\n",
        "]\n",
        "\n",
        "num_and_coor = [\n",
        "           \"surface_area\",\n",
        "            \"months_diff\",\n",
        "              \"latitude\",\n",
        "            \"longitude\"\n",
        "]\n",
        "\n",
        "\n",
        "# check the data type of each column\n",
        "print(data.shape)\n",
        "print(data.dtypes)\n",
        "print(data.describe())\n"
      ]
    },
    {
      "cell_type": "markdown",
      "metadata": {
        "id": "QFg_GKNtNlxD"
      },
      "source": []
    },
    {
      "cell_type": "code",
      "source": [
        "\"\"\"\n",
        "Duplicate the dataset for better testing\n",
        "\"\"\"\n",
        "\n",
        "# #iterations\n",
        "# timesToDuplicate = 3\n",
        "# for _ in range(timesToDuplicate):\n",
        "#   # Duplicate the dataset\n",
        "#   data = pd.concat([data, data], ignore_index=True)\n",
        "\n",
        "# # check the data type of each column\n",
        "# print(data.dtypes)\n",
        "# print(data.describe)\n"
      ],
      "metadata": {
        "id": "KIHlbvIO4fdr"
      },
      "execution_count": null,
      "outputs": []
    },
    {
      "cell_type": "code",
      "execution_count": null,
      "metadata": {
        "id": "nFEXUSE9o5Vv"
      },
      "outputs": [],
      "source": [
        "import seaborn as sns\n",
        "import matplotlib.pyplot as plt\n",
        "\n",
        "def showCorrelation(data, columns, target):\n",
        "  columns.append(target)\n",
        "  # calculate the correlation matrix for the selected columns\n",
        "  corr_matrix = data[columns].corr()\n",
        "\n",
        "  # print the correlation matrix\n",
        "  print(corr_matrix)\n",
        "\n",
        "  # visualize the correlation matrix using a heatmap\n",
        "  sns.heatmap(corr_matrix, cmap='coolwarm', annot=True)\n",
        "\n",
        "showCorrelation(data, [\"surface_area\",\"months_diff\",\"area\",\"latitude\",\"longitude\"],'rent_amount')"
      ]
    },
    {
      "cell_type": "markdown",
      "source": [
        "\n",
        "\n",
        "```\n",
        "# This is formatted as code\n",
        "```\n",
        "\n",
        "# knn approach"
      ],
      "metadata": {
        "id": "-f32_tY2QS60"
      }
    },
    {
      "cell_type": "code",
      "source": [
        "import pandas as pd\n",
        "import numpy as np\n",
        "import matplotlib\n",
        "import matplotlib.colors as colors\n",
        "import matplotlib.pyplot as plt\n",
        "\n",
        "from sklearn.model_selection import train_test_split\n",
        "from sklearn.neighbors import KNeighborsClassifier\n",
        "from sklearn.neighbors import KNeighborsRegressor\n",
        "from sklearn.model_selection import GridSearchCV\n",
        "\n",
        "def visualise(df, vmin, vmax):\n",
        "\n",
        "    df_sorted = df.sort_values(by='rent_amount')\n",
        "    x = df_sorted['longitude']\n",
        "    y = df_sorted['latitude']\n",
        "    c = df_sorted['rent_amount']\n",
        "\n",
        "    plt.rcParams['figure.figsize'] = [5, 6]\n",
        "    plt.rcParams['figure.dpi'] = 100\n",
        "\n",
        "    plt.scatter(x, y, s=0.01, c=c, cmap='plasma_r',\n",
        "                norm=colors.Normalize(vmin=vmin,vmax=vmax), alpha=0.8)\n",
        "    plt.colorbar()\n",
        "    plt.show()\n",
        "\n",
        "visualise(data, 1_0000, 1000_0000)"
      ],
      "metadata": {
        "id": "-_vaov6KORXW"
      },
      "execution_count": null,
      "outputs": []
    },
    {
      "cell_type": "code",
      "source": [
        "#set up data\n",
        "X = data[num_and_coor]\n",
        "y = data['rent_amount']\n",
        "\n",
        "X_train, X_test, y_train, y_test = train_test_split(X, y, random_state=42)\n",
        "\n",
        "#ranges of hyperparameters to try out\n",
        "params = {'n_neighbors':range(1,100,1),'weights':['uniform','distance']}\n",
        "\n",
        "#find ideal hyperparameters\n",
        "model = GridSearchCV(KNeighborsRegressor(), params, cv=5, verbose=0)\n",
        "model.fit(X_train.values,y_train.values)\n",
        "model.best_params_\n",
        "\n"
      ],
      "metadata": {
        "id": "Kqpyraa4DBMX"
      },
      "execution_count": null,
      "outputs": []
    },
    {
      "cell_type": "code",
      "source": [
        "model.score(X_test.values,y_test.values)\n"
      ],
      "metadata": {
        "id": "oGu4hQkIEdHO"
      },
      "execution_count": null,
      "outputs": []
    },
    {
      "cell_type": "code",
      "source": [
        "def yenToMan(yen):\n",
        "  return yen / 10_000\n",
        "\n",
        "def price(description,lat,lon,months,area):\n",
        "    features = [[lat,lon,months,area]]\n",
        "    print(\"{:30s} -> {:5.0f}man \".format(description,yenToMan(int(model.predict(features)))))\n",
        "\n",
        "# Examples of new data\n",
        "price('隆美荘貸店舗　1階', 35.7303492, 139.7879446,((58*12)+2) ,48.49) #18.6\n",
        "price('メゾンキュート　1階', 35.7156993,139.784519, (38 * 12), 49.65) #18.7\n",
        "price('Bright亀戸天神 1階', 35.7018962,139.8284366,0,32.96) #20.9\n",
        "price('TVCビル 3階', 35.7014974,139.8240094,((54*12)+5),75.7) #66"
      ],
      "metadata": {
        "id": "J68icFs2EsN6"
      },
      "execution_count": null,
      "outputs": []
    },
    {
      "cell_type": "markdown",
      "source": [
        "# Standard approach(nn with features as is)"
      ],
      "metadata": {
        "id": "JayUMSf1QcIg"
      }
    },
    {
      "cell_type": "code",
      "execution_count": null,
      "metadata": {
        "id": "g5wOionxsAKc"
      },
      "outputs": [],
      "source": [
        "# # one-hot encode categorical features\n",
        "encoder = OneHotEncoder(handle_unknown='ignore')\n",
        "encoder.fit(data[cat_cols])\n",
        "encoded_cat = encoder.transform(data[cat_cols]).toarray()\n",
        "\n",
        "# standardize numerical features\n",
        "scaler = StandardScaler()\n",
        "scaled_num = scaler.fit_transform(data[num_cols])\n",
        "\n",
        "# combine encoded categorical and scaled numerical features\n",
        "X = np.hstack((encoded_cat, scaled_num))\n",
        "\n",
        "# define target variable\n",
        "y = data['rent_amount']\n",
        "\n",
        "# train-test split\n",
        "X_train, X_test, y_train, y_test = train_test_split(X, y, test_size=0.2, random_state=0)\n",
        "print(X_train.shape)"
      ]
    },
    {
      "cell_type": "code",
      "execution_count": null,
      "metadata": {
        "id": "fzJYCx88OO9k"
      },
      "outputs": [],
      "source": [
        "# define model\n",
        "print(X_train.shape[1] / 2);\n",
        "model = Sequential()\n",
        "model.add(Dense(int(X_train.shape[1] / 2), activation='relu', input_shape=(X_train.shape[1],)))\n",
        "model.add(Dropout(0.3))\n",
        "model.add(Dense(int(X_train.shape[1] / 4), activation='relu'))\n",
        "model.add(Dropout(0.3))\n",
        "model.add(Dense(int(X_train.shape[1] / 8), activation='relu'))\n",
        "model.add(Dropout(0.3))\n",
        "model.add(Dense(1))\n",
        "\n",
        "# compile model\n",
        "model.compile(loss='mae', optimizer='adam')\n",
        "\n",
        "# early stopping\n",
        "early_stop = EarlyStopping(monitor='val_loss', patience=3, verbose=1) #set patience=3 etc for early stopping\n",
        "\n",
        "# Train model\n",
        "with tf.device('/GPU:0'):  # Use the first GPU\n",
        "  model.fit(X_train,\n",
        "            y_train,\n",
        "            epochs=100,\n",
        "            validation_data=(X_test, y_test),\n",
        "            callbacks=[\n",
        "                #early_stop\n",
        "                       #,cp_callback\n",
        "                       ])\n",
        "\n",
        "# evaluate model\n",
        "mae = model.evaluate(X_test, y_test)\n",
        "print(f\"Mean absolute error: {mae:.2f}\")\n",
        "\n",
        "# # make predictions\n",
        "# customerTest = ?\n",
        "# y_pred = model.predict(customerTest)"
      ]
    },
    {
      "cell_type": "code",
      "execution_count": null,
      "metadata": {
        "id": "PqtZGMfEhab2"
      },
      "outputs": [],
      "source": [
        "avg = y.median()\n",
        "print(f\"Mean absolute error as percentage of median price: {(mae/avg)*100}%\")"
      ]
    },
    {
      "cell_type": "markdown",
      "source": [
        "# NN with location cluster"
      ],
      "metadata": {
        "id": "4RZSx-kePNiO"
      }
    },
    {
      "cell_type": "code",
      "source": [
        "# one-hot encode categorical features\n",
        "encoder = OneHotEncoder(handle_unknown='error')\n",
        "encoder.fit(data[cat_cols])\n",
        "encoded_cat = encoder.transform(data[cat_cols]).toarray()\n",
        "\n",
        "# standardize numerical features\n",
        "scaler = StandardScaler()\n",
        "scaled_num = scaler.fit_transform(data[num_cols]) # can also be num_cols to exclude coordinates\n",
        "\n",
        "# combine encoded categorical and scaled numerical features\n",
        "X = np.hstack((encoded_cat, scaled_num))\n",
        "\n",
        "# define target variable\n",
        "y = data['rent_amount']\n",
        "\n",
        "# train-test split\n",
        "X_train, X_test, y_train, y_test = train_test_split(X, y, test_size=0.2, random_state=0)\n",
        "print(X_train.shape)\n",
        "\n",
        "# define model\n",
        "model = Sequential()\n",
        "model.add(Dense(X_train.shape[1], activation='relu'))\n",
        "# model.add(Dropout(0.5))\n",
        "model.add(Dense(X_train.shape[1] /2, activation='relu'))\n",
        "# model.add(Dropout(0.5))\n",
        "model.add(Dense(X_train.shape[1] /4, activation='relu'))\n",
        "# model.add(Dropout(0.5))\n",
        "model.add(Dense(1))\n",
        "\n",
        "# compile model\n",
        "model.compile(loss='mae', optimizer='adam')\n",
        "\n",
        "# early stopping\n",
        "early_stop = EarlyStopping(monitor='val_loss', patience=10, verbose=1)\n",
        "\n",
        "# Train model\n",
        "with tf.device('/GPU:0'):  # Use the first GPU\n",
        "  model.fit(X_train,\n",
        "            y_train,\n",
        "            epochs=100,\n",
        "            validation_data=(X_test, y_test),\n",
        "            callbacks=[early_stop\n",
        "                       #,cp_callback\n",
        "                       ]\n",
        "            )\n",
        "\n",
        "# evaluate model\n",
        "mae = model.evaluate(X_test, y_test)\n",
        "print(f\"Mean absolute error: {mae:.2f}\")\n",
        "\n",
        "# # make predictions\n",
        "# customerTest = ?\n",
        "# y_pred = model.predict(customerTest)"
      ],
      "metadata": {
        "id": "0i-fBhAcPmT4"
      },
      "execution_count": null,
      "outputs": []
    }
  ],
  "metadata": {
    "colab": {
      "provenance": [],
      "gpuType": "T4",
      "include_colab_link": true
    },
    "kernelspec": {
      "display_name": "Python 3",
      "name": "python3"
    },
    "language_info": {
      "name": "python"
    },
    "accelerator": "GPU"
  },
  "nbformat": 4,
  "nbformat_minor": 0
}